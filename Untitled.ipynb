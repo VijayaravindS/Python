{
 "cells": [
  {
   "cell_type": "code",
   "execution_count": 2,
   "id": "004ddcec",
   "metadata": {},
   "outputs": [
    {
     "name": "stdout",
     "output_type": "stream",
     "text": [
      "hello\n"
     ]
    }
   ],
   "source": [
    "print(\"hello\")"
   ]
  },
  {
   "cell_type": "code",
   "execution_count": 3,
   "id": "bc71489f",
   "metadata": {},
   "outputs": [
    {
     "name": "stdout",
     "output_type": "stream",
     "text": [
      "hi\n",
      "hello\n",
      "welcome\n"
     ]
    }
   ],
   "source": [
    "print(\"hi\\nhello\\nwelcome\")\n",
    "\n"
   ]
  },
  {
   "cell_type": "code",
   "execution_count": 18,
   "id": "3730ba72",
   "metadata": {},
   "outputs": [
    {
     "name": "stdout",
     "output_type": "stream",
     "text": [
      "hi\n",
      "morning\n"
     ]
    }
   ],
   "source": [
    "print(\"hi\")\n",
    "#print(\"good\")\n",
    "print(\"morning\")"
   ]
  },
  {
   "cell_type": "code",
   "execution_count": 5,
   "id": "25bd8a68",
   "metadata": {},
   "outputs": [
    {
     "name": "stdout",
     "output_type": "stream",
     "text": [
      "n-new line,T-Tab\n"
     ]
    }
   ],
   "source": [
    "print(\"n-new line,T-Tab\")"
   ]
  },
  {
   "cell_type": "code",
   "execution_count": 6,
   "id": "84aabed5",
   "metadata": {},
   "outputs": [
    {
     "name": "stdout",
     "output_type": "stream",
     "text": [
      "/ - escape characters\n"
     ]
    }
   ],
   "source": [
    "print(\"/ - escape characters\")"
   ]
  },
  {
   "cell_type": "code",
   "execution_count": 11,
   "id": "696d6793",
   "metadata": {},
   "outputs": [],
   "source": [
    "import logging\n",
    "logger = logging.getLogger()"
   ]
  },
  {
   "cell_type": "raw",
   "id": "031f37cb",
   "metadata": {},
   "source": []
  },
  {
   "cell_type": "code",
   "execution_count": 35,
   "id": "103d693e",
   "metadata": {},
   "outputs": [
    {
     "name": "stderr",
     "output_type": "stream",
     "text": [
      "bug\n",
      "hello/nwelcome/nhi\n"
     ]
    }
   ],
   "source": [
    "logger.error(\"bug\")\n",
    "logger.error(\"hello/nwelcome/nhi\")"
   ]
  },
  {
   "cell_type": "code",
   "execution_count": 13,
   "id": "41e10b13",
   "metadata": {},
   "outputs": [
    {
     "name": "stderr",
     "output_type": "stream",
     "text": [
      "hello/ntesting/ttrial\n"
     ]
    }
   ],
   "source": [
    "logger.error(\"hello/ntesting/ttrial\")"
   ]
  },
  {
   "cell_type": "code",
   "execution_count": 159,
   "id": "052dc4ac",
   "metadata": {},
   "outputs": [
    {
     "name": "stderr",
     "output_type": "stream",
     "text": [
      "hello\n",
      "testing\n",
      "errorhasoccured\n"
     ]
    }
   ],
   "source": [
    "logger.error(\"hello\\ntesting\\nerrorhasoccured\")"
   ]
  },
  {
   "cell_type": "code",
   "execution_count": 19,
   "id": "39747217",
   "metadata": {},
   "outputs": [
    {
     "ename": "SyntaxError",
     "evalue": "EOF while scanning triple-quoted string literal (2631036454.py, line 2)",
     "output_type": "error",
     "traceback": [
      "\u001b[1;36m  File \u001b[1;32m\"C:\\Users\\vijay\\AppData\\Local\\Temp\\ipykernel_9312\\2631036454.py\"\u001b[1;36m, line \u001b[1;32m2\u001b[0m\n\u001b[1;33m    This option is to keep notes on the codes we are working\u001b[0m\n\u001b[1;37m                                                             \n^\u001b[0m\n\u001b[1;31mSyntaxError\u001b[0m\u001b[1;31m:\u001b[0m EOF while scanning triple-quoted string literal\n"
     ]
    }
   ],
   "source": [
    "\"\"\"\n",
    "This option is to keep notes on the codes we are working, #is to hide the codes we write just for clarity,string is anything comes in double \"\",\n",
    "a = \"test\"\n",
    "print(type(a))\n",
    "print(isinstance(a,str)) is to clarify the difference between numerics and alphabets \n",
    "\"\"\"\n",
    "\n",
    "\n",
    "string is anything withing double quotes, integer is a number , list is collection of words , tuple is the same thing which cannot be edited and runs faster "
   ]
  },
  {
   "cell_type": "code",
   "execution_count": 20,
   "id": "4cfd6f9e",
   "metadata": {},
   "outputs": [
    {
     "name": "stdout",
     "output_type": "stream",
     "text": [
      "enter an inputget an update\n"
     ]
    },
    {
     "data": {
      "text/plain": [
       "'get an update'"
      ]
     },
     "execution_count": 20,
     "metadata": {},
     "output_type": "execute_result"
    }
   ],
   "source": [
    "input(\"enter an input\")"
   ]
  },
  {
   "cell_type": "code",
   "execution_count": 21,
   "id": "84ee3695",
   "metadata": {},
   "outputs": [
    {
     "name": "stdout",
     "output_type": "stream",
     "text": [
      "a is variable and we can tag any codes to name\n"
     ]
    }
   ],
   "source": [
    "print(\"a is variable and we can tag any codes to name\")"
   ]
  },
  {
   "cell_type": "code",
   "execution_count": 24,
   "id": "d3c76381",
   "metadata": {},
   "outputs": [],
   "source": [
    "a = \"a is variable and rest is vale\""
   ]
  },
  {
   "cell_type": "code",
   "execution_count": 23,
   "id": "993a58f6",
   "metadata": {},
   "outputs": [
    {
     "name": "stdout",
     "output_type": "stream",
     "text": [
      "a is variable and we can tag any codes to name\n"
     ]
    }
   ],
   "source": [
    "print(a)"
   ]
  },
  {
   "cell_type": "code",
   "execution_count": 25,
   "id": "92d31a9b",
   "metadata": {},
   "outputs": [
    {
     "name": "stdout",
     "output_type": "stream",
     "text": [
      "a is variable and rest is vale\n"
     ]
    }
   ],
   "source": [
    "print (a)"
   ]
  },
  {
   "cell_type": "code",
   "execution_count": null,
   "id": "6af71edc",
   "metadata": {},
   "outputs": [],
   "source": []
  },
  {
   "cell_type": "code",
   "execution_count": 27,
   "id": "163c4582",
   "metadata": {},
   "outputs": [],
   "source": [
    "#data type\n",
    "#1, string"
   ]
  },
  {
   "cell_type": "code",
   "execution_count": 28,
   "id": "7bb4262c",
   "metadata": {},
   "outputs": [
    {
     "name": "stdout",
     "output_type": "stream",
     "text": [
      "<class 'str'>\n",
      "True\n"
     ]
    }
   ],
   "source": [
    "a = \"test\"\n",
    "print(type(a))\n",
    "print(isinstance(a,str))"
   ]
  },
  {
   "cell_type": "code",
   "execution_count": 33,
   "id": "67a0427e",
   "metadata": {},
   "outputs": [
    {
     "name": "stdout",
     "output_type": "stream",
     "text": [
      "15\n",
      "['C', 'R', 'a', 'a', 'd', 'i', 'i', 'l', 'n', 'n', 'o', 'o', 'r', 's', 't']\n",
      "C\n",
      "t\n"
     ]
    }
   ],
   "source": [
    "a =\"CristianRonaldo\"\n",
    "print(len(a))\n",
    "print(sorted(a))\n",
    "print(min(a))\n",
    "print(max(a))"
   ]
  },
  {
   "cell_type": "code",
   "execution_count": 34,
   "id": "0ad290e9",
   "metadata": {},
   "outputs": [
    {
     "name": "stdout",
     "output_type": "stream",
     "text": [
      "CRISTIANRONALDO\n",
      "cristianronaldo\n",
      "False\n",
      "False\n",
      "True\n",
      "True\n",
      "False\n"
     ]
    }
   ],
   "source": [
    "print(a.upper()) #makes everything uppercase\n",
    "print(a.lower()) #makes everything lowercase\n",
    "print(a.isupper()) #to check for uppercase\n",
    "print(a.islower()) #to check for lowercase\n",
    "print(a.isalpha()) #to check for alphabetes\n",
    "print(a.isalnum()) #to check for numerics\n",
    "print(a.isdigit()) # to check for digits"
   ]
  },
  {
   "cell_type": "code",
   "execution_count": 36,
   "id": "8bfb365b",
   "metadata": {},
   "outputs": [
    {
     "name": "stdout",
     "output_type": "stream",
     "text": [
      "i\n",
      "o\n"
     ]
    }
   ],
   "source": [
    "a = \"cristianoronaldo\" #indexing\n",
    "print(a[5]) #forward index\n",
    "print(a[-1]) #reverse index"
   ]
  },
  {
   "cell_type": "code",
   "execution_count": 44,
   "id": "4074bf01",
   "metadata": {},
   "outputs": [
    {
     "name": "stdout",
     "output_type": "stream",
     "text": [
      "stianor\n",
      "c\n"
     ]
    }
   ],
   "source": [
    "#start #end #interval\n",
    "print(a[3:10])#to sort the letters between 3-10\n",
    "print(a[:1]) #to pullup the first letter "
   ]
  },
  {
   "cell_type": "code",
   "execution_count": 38,
   "id": "8191c315",
   "metadata": {},
   "outputs": [
    {
     "name": "stdout",
     "output_type": "stream",
     "text": [
      "cr\n"
     ]
    }
   ],
   "source": [
    "print(a[:2])#to pull up the second letter "
   ]
  },
  {
   "cell_type": "code",
   "execution_count": 39,
   "id": "3c6c08c9",
   "metadata": {},
   "outputs": [
    {
     "name": "stdout",
     "output_type": "stream",
     "text": [
      "citaooad\n"
     ]
    }
   ],
   "source": [
    "print(a[::2])"
   ]
  },
  {
   "cell_type": "code",
   "execution_count": 40,
   "id": "e4fd71dc",
   "metadata": {},
   "outputs": [
    {
     "name": "stdout",
     "output_type": "stream",
     "text": [
      "c\n"
     ]
    }
   ],
   "source": [
    "print(a[0])"
   ]
  },
  {
   "cell_type": "code",
   "execution_count": 41,
   "id": "5f12b3b6",
   "metadata": {},
   "outputs": [
    {
     "name": "stdout",
     "output_type": "stream",
     "text": [
      "r\n"
     ]
    }
   ],
   "source": [
    "print(a[1])"
   ]
  },
  {
   "cell_type": "code",
   "execution_count": 46,
   "id": "69f6ba67",
   "metadata": {},
   "outputs": [
    {
     "name": "stdout",
     "output_type": "stream",
     "text": [
      "1\n"
     ]
    }
   ],
   "source": [
    "print(a.index(\"r\",1))#it is to find the letter through indexing method "
   ]
  },
  {
   "cell_type": "code",
   "execution_count": 47,
   "id": "4e390099",
   "metadata": {},
   "outputs": [
    {
     "name": "stdout",
     "output_type": "stream",
     "text": [
      "14\n"
     ]
    }
   ],
   "source": [
    "print(a.rindex(\"d\",9,15))#here we are finding the letter by using number "
   ]
  },
  {
   "cell_type": "code",
   "execution_count": 48,
   "id": "09020e10",
   "metadata": {},
   "outputs": [
    {
     "name": "stdout",
     "output_type": "stream",
     "text": [
      "1\n"
     ]
    }
   ],
   "source": [
    "print(a.index(\"r\"))#here we are finding the letter with this method using alphabates "
   ]
  },
  {
   "cell_type": "code",
   "execution_count": 51,
   "id": "8de2bf63",
   "metadata": {},
   "outputs": [
    {
     "name": "stdout",
     "output_type": "stream",
     "text": [
      "11\n"
     ]
    }
   ],
   "source": [
    "print(a.rindex(\"n\"))"
   ]
  },
  {
   "cell_type": "code",
   "execution_count": 53,
   "id": "2dbb99d7",
   "metadata": {},
   "outputs": [
    {
     "name": "stdout",
     "output_type": "stream",
     "text": [
      "2\n"
     ]
    }
   ],
   "source": [
    "#index - > find\n",
    "#index - > rfind\n",
    "\n",
    "print(a.find(\"i\")) #both find and index are same on index if the letter/number is not available it will give error but in find if the option is not available it will give -1"
   ]
  },
  {
   "cell_type": "code",
   "execution_count": 56,
   "id": "a526eced",
   "metadata": {},
   "outputs": [
    {
     "name": "stdout",
     "output_type": "stream",
     "text": [
      "0\n",
      "['cristian', 'r', 'nald', '']\n",
      "cristian%r%nald%\n"
     ]
    }
   ],
   "source": [
    "print(a.count(\"z\"))\n",
    "print(a.split(\"o\"))\n",
    "print(a.replace(\"o\",\"%\"))"
   ]
  },
  {
   "cell_type": "code",
   "execution_count": 59,
   "id": "82e2ae6c",
   "metadata": {},
   "outputs": [
    {
     "name": "stdout",
     "output_type": "stream",
     "text": [
      "False\n"
     ]
    }
   ],
   "source": [
    "print(a.startswith(\"C\"))"
   ]
  },
  {
   "cell_type": "code",
   "execution_count": 60,
   "id": "3c500a56",
   "metadata": {},
   "outputs": [
    {
     "name": "stdout",
     "output_type": "stream",
     "text": [
      "True\n"
     ]
    }
   ],
   "source": [
    "print(a.endswith(\"o\"))"
   ]
  },
  {
   "cell_type": "code",
   "execution_count": 61,
   "id": "00aeaf0a",
   "metadata": {},
   "outputs": [],
   "source": [
    "#get input from user and remove spaces and get the lenght of the word "
   ]
  },
  {
   "cell_type": "code",
   "execution_count": 88,
   "id": "aaf8b8df",
   "metadata": {},
   "outputs": [
    {
     "name": "stdout",
     "output_type": "stream",
     "text": [
      "<class 'int'>\n",
      "True\n",
      "True\n",
      "123\n"
     ]
    }
   ],
   "source": [
    "a = 123\n",
    "b = \"123\"\n",
    "print(type(a)) #when checking on the \n",
    "print(isinstance(b,str))\n",
    "print(b.isdigit())\n",
    "b = int(b)#once the format is changed you need give print \n",
    "print(b)\n"
   ]
  },
  {
   "cell_type": "code",
   "execution_count": 84,
   "id": "d297ff04",
   "metadata": {},
   "outputs": [
    {
     "name": "stdout",
     "output_type": "stream",
     "text": [
      "<class 'int'>\n",
      "False\n"
     ]
    }
   ],
   "source": [
    "print(type(a))\n",
    "print(isinstance(a,str))"
   ]
  },
  {
   "cell_type": "code",
   "execution_count": 68,
   "id": "75ed7184",
   "metadata": {},
   "outputs": [
    {
     "name": "stdout",
     "output_type": "stream",
     "text": [
      "<class 'str'>\n",
      "True\n"
     ]
    }
   ],
   "source": [
    "print(type(b))\n",
    "print(isinstance(b,str))"
   ]
  },
  {
   "cell_type": "code",
   "execution_count": 69,
   "id": "6297672c",
   "metadata": {},
   "outputs": [
    {
     "name": "stdout",
     "output_type": "stream",
     "text": [
      "<class 'str'>\n",
      "True\n"
     ]
    }
   ],
   "source": [
    "print(type(a))\n",
    "print(isinstance(b,str))"
   ]
  },
  {
   "cell_type": "code",
   "execution_count": 128,
   "id": "162e3bea",
   "metadata": {},
   "outputs": [
    {
     "name": "stdout",
     "output_type": "stream",
     "text": [
      "['Vijay', '26', 'chennai']\n",
      "<class 'list'>\n",
      "chennai\n",
      "chennai\n",
      "3\n",
      "26\n",
      "chennai\n",
      "['26', 'Vijay', 'chennai']\n",
      "0\n",
      "1\n",
      "['Vijay', '26', 'chennai', 'india']\n",
      "['Vijay', '26', 'world', 'chennai', 'india']\n",
      "['Vijay', 'world', 'chennai', 'india']\n",
      "['Vijay', 'chennai', 'india']\n"
     ]
    }
   ],
   "source": [
    "a = [\"Vijay\",\"26\",\"chennai\"]\n",
    "print(a)\n",
    "print(type(a))\n",
    "print(a[2])\n",
    "print(a[-1])\n",
    "print(len(a))\n",
    "print(min(a))\n",
    "print(max(a))\n",
    "print(sorted(a)) \n",
    "print(a.index(\"Vijay\")) #to  find the num/word's place\n",
    "print(a.index(\"26\")) #to  find the num/word's place\n",
    "a.append(\"india\") #to add anything at the end of the string \n",
    "print(a)\n",
    "a.insert(2,\"world\") #to insert the word \n",
    "print(a)\n",
    "a.remove(\"26\") #to remove the word\n",
    "print(a)\n",
    "del a[1] #to delete by using indexing numbers\n",
    "print (a)\n",
    "\n",
    "\n",
    "\n"
   ]
  },
  {
   "cell_type": "code",
   "execution_count": 132,
   "id": "101a7ba2",
   "metadata": {},
   "outputs": [
    {
     "name": "stdout",
     "output_type": "stream",
     "text": [
      "['waterfiresky', ['animemangaluffy']]\n",
      "['waterfiresky', ['animemangaluffy'], 'animemangaluffy']\n"
     ]
    }
   ],
   "source": [
    "a = [\"water\"\"fire\"\"sky\"]\n",
    "b = [\"anime\"\"manga\"\"luffy\"]\n",
    "\n",
    "a.append (b)\n",
    "print (a)\n",
    "\n",
    "a.extend (b)\n",
    "print (a)"
   ]
  },
  {
   "cell_type": "code",
   "execution_count": 136,
   "id": "c3dddf6d",
   "metadata": {},
   "outputs": [
    {
     "name": "stdout",
     "output_type": "stream",
     "text": [
      "['waterfiresky', 'animemangaluffy']\n"
     ]
    }
   ],
   "source": [
    "a = [\"water\"\"fire\"\"sky\"]\n",
    "b = [\"anime\"\"manga\"\"luffy\"]\n",
    "\n",
    "a.extend (b)\n",
    "print (a)"
   ]
  },
  {
   "cell_type": "code",
   "execution_count": 158,
   "id": "651a793b",
   "metadata": {},
   "outputs": [
    {
     "name": "stdout",
     "output_type": "stream",
     "text": [
      "('hello', 'welcome', 'goodmoring')\n",
      "<class 'tuple'>\n",
      "True\n",
      "goodmoring\n",
      "welcome\n",
      "['goodmoring', 'hello', 'welcome']\n",
      "welcome\n",
      "goodmoring\n",
      "1\n"
     ]
    }
   ],
   "source": [
    "a = (\"hello\",\"welcome\",\"goodmoring\") #tuple cant be deleted ()    ,#list can be deleted []\n",
    "print(a)\n",
    "print(type(a))\n",
    "print(isinstance(a,tuple))\n",
    "print(min(a))\n",
    "print(max(a))\n",
    "print(sorted(a))\n",
    "print(a[1])\n",
    "print(a[-1])\n",
    "print(a.index(\"welcome\"))"
   ]
  },
  {
   "cell_type": "code",
   "execution_count": null,
   "id": "012e8563",
   "metadata": {},
   "outputs": [],
   "source": []
  }
 ],
 "metadata": {
  "kernelspec": {
   "display_name": "Python 3 (ipykernel)",
   "language": "python",
   "name": "python3"
  },
  "language_info": {
   "codemirror_mode": {
    "name": "ipython",
    "version": 3
   },
   "file_extension": ".py",
   "mimetype": "text/x-python",
   "name": "python",
   "nbconvert_exporter": "python",
   "pygments_lexer": "ipython3",
   "version": "3.9.13"
  }
 },
 "nbformat": 4,
 "nbformat_minor": 5
}
